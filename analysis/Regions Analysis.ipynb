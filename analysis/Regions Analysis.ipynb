{
 "cells": [
  {
   "cell_type": "code",
   "execution_count": 1,
   "metadata": {
    "collapsed": false,
    "scrolled": true
   },
   "outputs": [],
   "source": [
    "%matplotlib inline\n",
    "import numpy as np\n",
    "import matplotlib.pyplot as plt\n",
    "plt.rc('figure', figsize=(8,8))\n",
    "\n",
    "import json\n",
    "import time\n",
    "from os import path\n",
    "\n",
    "import matplotlib.patches as patches\n",
    "\n",
    "import pandas as pd\n",
    "\n",
    "import camhd_motion_analysis as ma\n"
   ]
  },
  {
   "cell_type": "code",
   "execution_count": 2,
   "metadata": {
    "collapsed": false
   },
   "outputs": [],
   "source": [
    "metadata_repo = \"/Users/aaron/workspace/CamHD_analysis/CamHD_motion_metadata/\"  # On Mac\n",
    "data_filename = \"/RS03ASHS/PN03B/06-CAMHDA301/2016/03/01/CAMHDA301-20160301T000000Z_optical_flow.json\"\n",
    "\n",
    "data_file = metadata_repo + data_filename"
   ]
  },
  {
   "cell_type": "code",
   "execution_count": null,
   "metadata": {
    "collapsed": false
   },
   "outputs": [],
   "source": [
    "valid = ma.load_and_clean_json( data_file )\n",
    "print(valid)"
   ]
  },
  {
   "cell_type": "code",
   "execution_count": null,
   "metadata": {
    "collapsed": false
   },
   "outputs": [],
   "source": [
    "valid.duration_us.plot(style='.-')\n"
   ]
  },
  {
   "cell_type": "code",
   "execution_count": null,
   "metadata": {
    "collapsed": false
   },
   "outputs": [],
   "source": [
    "fig, axes = plt.subplots(nrows=2, ncols=1, figsize=(20,12))\n",
    "\n",
    "scale_lim = [0.8,1.2]\n",
    "trans_lim = [-60,60]\n",
    "total_trans_lim=[-5,8000]\n",
    "\n",
    "ticks_secs = 60\n",
    "ticks = np.arange(0.0, max(valid.index), 29.97*ticks_secs)\n",
    "#axes[0].set_xticks(ticks)\n",
    "axes[1].set_xticks(ticks)\n",
    "\n",
    "raxes = axes[0].twinx()\n",
    "valid.scale.rolling(window=3,center=False).mean().plot(style='r.-', ax=axes[0], ylim=scale_lim,label='scale', legend=True)\n",
    "axes[0].set_ylabel('scale')\n",
    "valid.trans_x.rolling(window=3,center=False).mean().plot(style='b.-', ax=raxes, ylim=trans_lim, label='x', legend=True)\n",
    "raxes.set_ylabel('translation vel.')\n",
    "valid.trans_y.rolling(window=3,center=False).mean().plot(style='g.-', ax=raxes, ylim=trans_lim, label='y', legend=True)\n",
    "\n",
    "raxes = axes[1].twinx()\n",
    "valid.scale.rolling(window=3,center=False).mean().plot(style='r.-', ax=axes[1], label='scale', legend=True)\n",
    "valid.trans.rolling(window=5,center=False).median().plot(style='k.-', ax=raxes, ylim=total_trans_lim, label='y', legend=True)\n",
    "\n",
    "\n",
    "timeaxes = axes[1].twiny() \n",
    "timeticks = axes[1].get_xticks()\n",
    "\n",
    "def tick_function(f):\n",
    "    V = f / 29.97\n",
    "    return [time.strftime(\"%M:%S\", time.gmtime(z))  for z in V]\n",
    "\n",
    "timeaxes.set_xticks(timeticks)\n",
    "timeaxes.set_xbound(axes[1].get_xbound())\n",
    "timeaxes.set_xticklabels(tick_function(timeticks));\n"
   ]
  },
  {
   "cell_type": "code",
   "execution_count": null,
   "metadata": {
    "collapsed": true
   },
   "outputs": [],
   "source": [
    "stable = valid.loc[lambda df: df.trans < 100].loc[ lambda df: (df.scale-1).abs() < 0.01 ]"
   ]
  },
  {
   "cell_type": "code",
   "execution_count": null,
   "metadata": {
    "collapsed": false
   },
   "outputs": [],
   "source": [
    "fig, axes = plt.subplots(nrows=2, ncols=1, figsize=(20,12))\n",
    "\n",
    "ticks_secs = 60\n",
    "ticks = np.arange(0.0, max(valid.index), 29.97*ticks_secs)\n",
    "#axes[0].set_xticks(ticks)\n",
    "axes[1].set_xticks(ticks)\n",
    "\n",
    "raxes = axes[0].twinx()\n",
    "stable.scale.plot(style='r.', ax=axes[0], label='scale', ylim=scale_lim, legend=True)\n",
    "axes[0].set_ylabel('scale')\n",
    "stable.trans_x.plot(style='b.', ax=raxes,  ylim=trans_lim, label='x', legend=True)\n",
    "raxes.set_ylabel('translation vel.')\n",
    "stable.trans_y.plot(style='g.', ax=raxes,  ylim=trans_lim, label='y', legend=True)\n",
    "\n",
    "raxes = axes[1].twinx()\n",
    "stable.scale.plot(style='r.', ax=axes[1], ylim=scale_lim, label='scale', legend=True)\n",
    "stable.trans.plot(style='k.', ax=raxes, label='y', ylim=total_trans_lim,  legend=True)\n",
    "\n",
    "\n",
    "timeaxes = axes[1].twiny() \n",
    "timeticks = axes[1].get_xticks()\n",
    "\n",
    "def tick_function(f):\n",
    "    V = f / 29.97\n",
    "    return [time.strftime(\"%M:%S\", time.gmtime(z))  for z in V]\n",
    "\n",
    "timeaxes.set_xticks(timeticks)\n",
    "timeaxes.set_xbound(axes[1].get_xbound())\n",
    "timeaxes.set_xticklabels(tick_function(timeticks));\n",
    "\n"
   ]
  },
  {
   "cell_type": "code",
   "execution_count": null,
   "metadata": {
    "collapsed": true
   },
   "outputs": [],
   "source": [
    "\n",
    "stable_regions = ma.contiguous_region( stable )\n",
    "classify = ma.classify_regions( valid, stable_regions )\n",
    "\n",
    "classify.sort(key=lambda x: x[\"bounds\"][0])\n"
   ]
  },
  {
   "cell_type": "code",
   "execution_count": null,
   "metadata": {
    "collapsed": false
   },
   "outputs": [],
   "source": [
    "fig, axes = plt.subplots(nrows=2, ncols=1, figsize=(20,12))\n",
    "\n",
    "ticks_secs = 60\n",
    "ticks = np.arange(0.0, max(valid.index), 29.97*ticks_secs)\n",
    "#axes[0].set_xticks(ticks)\n",
    "axes[1].set_xticks(ticks)\n",
    "\n",
    "raxes = axes[0].twinx()\n",
    "region.scale.plot(style='r.', ax=axes[0], label='scale', ylim=scale_lim, legend=True)\n",
    "axes[0].set_ylabel('scale')\n",
    "region.trans_x.plot(style='b.', ax=raxes,  ylim=trans_lim, label='x', legend=True)\n",
    "raxes.set_ylabel('translation vel.')\n",
    "region.trans_y.plot(style='g.', ax=raxes,  ylim=trans_lim, label='y', legend=True)\n",
    "\n",
    "raxes = axes[1].twinx()\n",
    "region.scale.plot(style='r.', ax=axes[1], ylim=scale_lim, label='scale', legend=True)\n",
    "region.trans.plot(style='k.', ax=raxes, label='y', ylim=total_trans_lim,  legend=True)\n",
    "\n",
    "\n",
    "timeaxes = axes[1].twiny() \n",
    "timeticks = axes[1].get_xticks()\n",
    "\n",
    "def tick_function(f):\n",
    "    V = f / 29.97\n",
    "    return [time.strftime(\"%M:%S\", time.gmtime(z))  for z in V]\n",
    "\n",
    "timeaxes.set_xticks(timeticks)\n",
    "timeaxes.set_xbound(axes[1].get_xbound())\n",
    "timeaxes.set_xticklabels(tick_function(timeticks));"
   ]
  },
  {
   "cell_type": "code",
   "execution_count": null,
   "metadata": {
    "collapsed": true
   },
   "outputs": [],
   "source": []
  }
 ],
 "metadata": {
  "kernelspec": {
   "display_name": "CamHD Motion Analysis",
   "language": "python",
   "name": "camhd_motion_analysis"
  },
  "language_info": {
   "codemirror_mode": {
    "name": "ipython",
    "version": 3
   },
   "file_extension": ".py",
   "mimetype": "text/x-python",
   "name": "python",
   "nbconvert_exporter": "python",
   "pygments_lexer": "ipython3",
   "version": "3.6.1"
  }
 },
 "nbformat": 4,
 "nbformat_minor": 2
}
