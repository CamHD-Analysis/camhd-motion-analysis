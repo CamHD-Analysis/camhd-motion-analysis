{
 "cells": [
  {
   "cell_type": "code",
   "execution_count": 2,
   "metadata": {
    "collapsed": true
   },
   "outputs": [],
   "source": [
    "import json\n",
    "\n",
    "import subprocess\n",
    "import time\n",
    "\n",
    "from os import path"
   ]
  },
  {
   "cell_type": "code",
   "execution_count": 13,
   "metadata": {
    "collapsed": true
   },
   "outputs": [],
   "source": [
    "metadata_repo = \"/home/aaron/workspace/camhd_analysis/CamHD_motion_metadata\"\n",
    "movie_repo = \"/home/aaron/canine/workspace/camhd_analysis/test_data\"\n",
    "\n",
    "movie = \"/RS03ASHS/PN03B/06-CAMHDA301/2016/01/01/CAMHDA301-20160101T000000Z.mov\"\n",
    "\n",
    "regions_filename = metadata_repo + (path.splitext(movie)[0]) + \"_optical_flow_regions.json\"\n",
    "movie_filename = movie_repo + movie\n",
    "\n",
    "out_file = path.splitext(path.split(movie)[1])[0] + \"_subtitles.mkv\""
   ]
  },
  {
   "cell_type": "code",
   "execution_count": 14,
   "metadata": {
    "collapsed": true
   },
   "outputs": [],
   "source": [
    "with open(regions_filename,'r') as infile:\n",
    "    j = json.load( infile )\n",
    "   \n",
    "regions = j['regions']"
   ]
  },
  {
   "cell_type": "code",
   "execution_count": 21,
   "metadata": {},
   "outputs": [],
   "source": [
    "with open('subtitles.srt','w') as srtfile:\n",
    "\n",
    "    index = 1\n",
    "    for region in regions:\n",
    "\n",
    "        bounds = region['bounds']\n",
    "\n",
    "        #preseek_time = time.strftime(\"%H:%M:%S\", time.gmtime( r[0]/29.97-2 ) )\n",
    "        start_time = time.strftime(\"%H:%M:%S\", time.gmtime( bounds[0]/29.97 ) )\n",
    "        end_time = time.strftime(\"%H:%M:%S\", time.gmtime( bounds[1]/29.97 ) )\n",
    "        \n",
    "        duration = time.strftime(\"%H:%M:%S\", time.gmtime( (bounds[1] - bounds[0])/29.97 ) )\n",
    "\n",
    "        srtfile.write(\"%d\\n\" % index)\n",
    "        \n",
    "        ## Fake sub-second timestamps for now...\n",
    "        srtfile.write(\"%s,000 --> %s,000\\n\" % (start_time, end_time) )\n",
    "        srtfile.write(\"%s\\n\" % region[\"type\"])\n",
    "        srtfile.write(\"\\n\")\n",
    "        \n",
    "        index += 1\n"
   ]
  },
  {
   "cell_type": "code",
   "execution_count": 18,
   "metadata": {},
   "outputs": [
    {
     "data": {
      "text/plain": [
       "CompletedProcess(args=['ffmpeg', '-y', '-i', '/home/aaron/canine/workspace/camhd_analysis/test_data/RS03ASHS/PN03B/06-CAMHDA301/2016/01/01/CAMHDA301-20160101T000000Z.mov', '-vf', 'subtitles=./subtitles.srt', 'CAMHDA301-20160101T000000Z_subtitles.mkv'], returncode=1)"
      ]
     },
     "execution_count": 18,
     "metadata": {},
     "output_type": "execute_result"
    }
   ],
   "source": [
    "## N.b.  The SRT file format is pretty delicate.  If ffmpeg won't run, the .srt file may be malformed...\n",
    "\n",
    "subprocess.run( ['ffmpeg', '-y', '-i', movie_filename, '-vf', 'subtitles=subtitles.srt', out_file])"
   ]
  },
  {
   "cell_type": "code",
   "execution_count": null,
   "metadata": {
    "collapsed": true
   },
   "outputs": [],
   "source": []
  }
 ],
 "metadata": {
  "kernelspec": {
   "display_name": "Python 3",
   "language": "python",
   "name": "python3"
  },
  "language_info": {
   "codemirror_mode": {
    "name": "ipython",
    "version": 3
   },
   "file_extension": ".py",
   "mimetype": "text/x-python",
   "name": "python",
   "nbconvert_exporter": "python",
   "pygments_lexer": "ipython3",
   "version": "3.6.1"
  }
 },
 "nbformat": 4,
 "nbformat_minor": 2
}
