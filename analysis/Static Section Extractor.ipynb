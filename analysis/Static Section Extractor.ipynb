{
 "cells": [
  {
   "cell_type": "code",
   "execution_count": 19,
   "metadata": {
    "collapsed": true
   },
   "outputs": [],
   "source": [
    "import json\n",
    "\n",
    "import subprocess\n",
    "import time"
   ]
  },
  {
   "cell_type": "code",
   "execution_count": 14,
   "metadata": {
    "collapsed": true
   },
   "outputs": [],
   "source": [
    "regions_filename = \"../CAMHDA301-20160101T000000Z_regions.json\"\n",
    "movie_filename = \"/home/aaron/canine/workspace/camhd_analysis/test_data/RS03ASHS/PN03B/06-CAMHDA301/2016/01/01/CAMHDA301-20160101T000000Z.mov\"\n",
    "\n",
    "\n",
    "out_dir = \"CAMHDA301-20160101T000000Z\""
   ]
  },
  {
   "cell_type": "code",
   "execution_count": 15,
   "metadata": {},
   "outputs": [
    {
     "name": "stdout",
     "output_type": "stream",
     "text": [
      "[[580, 1050], [1220, 1360], [1520, 1550], [1700, 2200], [2530, 2650], [2690, 2810], [2980, 3860], [4030, 4200], [4250, 4380], [4650, 4980], [5200, 5540], [5710, 5840], [5990, 6900], [7200, 7280], [7500, 7820], [8050, 8390], [8550, 8690], [8840, 9540], [9560, 9630], [9650, 9730], [10040, 10120], [10360, 10660], [10830, 11190], [11360, 11490], [11650, 12550], [12850, 12920], [13100, 13390], [13510, 13890], [14050, 14190], [14340, 15240], [15540, 15610], [15730, 16270], [16440, 16570], [16720, 16820], [16840, 16840], [16860, 16860], [16880, 17160], [17180, 17420], [17440, 17630], [17930, 18370], [18700, 18920], [18940, 19230], [19440, 20320], [20530, 20700], [21020, 21360], [21530, 21890], [22020, 22900], [23030, 23420], [23590, 23950], [24110, 24420]]\n"
     ]
    }
   ],
   "source": [
    "with open(regions_filename,'r') as infile:\n",
    "    regions = json.load( infile )\n",
    "    \n",
    "print(regions)"
   ]
  },
  {
   "cell_type": "code",
   "execution_count": 29,
   "metadata": {},
   "outputs": [
    {
     "name": "stdout",
     "output_type": "stream",
     "text": [
      "00:02:53 00:00:11\n"
     ]
    }
   ],
   "source": [
    "for r in [ [5200,5540] ]:\n",
    "    #preseek_time = time.strftime(\"%H:%M:%S\", time.gmtime( r[0]/29.97-2 ) )\n",
    "    start_time = time.strftime(\"%H:%M:%S\", time.gmtime( r[0]/29.97 ) )\n",
    "    duration = time.strftime(\"%H:%M:%S\", time.gmtime( (r[1] - r[0])/29.97 ) )\n",
    "    \n",
    "    print(start_time, duration)\n",
    "    \n",
    "    out_file = \"%s/region_%d_%d.mkv\" % (out_dir, r[0], r[1])\n",
    "\n",
    "    subprocess.run( ['ffmpeg', '-y', '-ss', start_time,  '-i', movie_filename, '-t', duration, out_file])\n"
   ]
  },
  {
   "cell_type": "code",
   "execution_count": null,
   "metadata": {
    "collapsed": true
   },
   "outputs": [],
   "source": []
  },
  {
   "cell_type": "code",
   "execution_count": null,
   "metadata": {
    "collapsed": true
   },
   "outputs": [],
   "source": []
  }
 ],
 "metadata": {
  "kernelspec": {
   "display_name": "Python 3",
   "language": "python",
   "name": "python3"
  },
  "language_info": {
   "codemirror_mode": {
    "name": "ipython",
    "version": 3
   },
   "file_extension": ".py",
   "mimetype": "text/x-python",
   "name": "python",
   "nbconvert_exporter": "python",
   "pygments_lexer": "ipython3",
   "version": "3.6.1"
  }
 },
 "nbformat": 4,
 "nbformat_minor": 2
}
