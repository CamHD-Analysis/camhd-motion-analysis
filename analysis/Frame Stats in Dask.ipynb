{
 "cells": [
  {
   "cell_type": "code",
   "execution_count": 82,
   "metadata": {},
   "outputs": [],
   "source": [
    "import subprocess\n",
    "import json\n",
    "import pycamhd.lazycache as pycamhd\n",
    "import tempfile\n",
    "\n",
    "frame_stats_path = \"../build-Debug/bin/frame_stats\"\n",
    "mov_path = '/RS03ASHS/PN03B/06-CAMHDA301/2016/01/01/CAMHDA301-20160101T000000Z.mov'\n",
    "\n",
    "# metadata_repo = \"/home/aaron/workspace/camhd_analysis/CamHD_motion_metadata\"\n",
    "# data_filename = \"/RS03ASHS/PN03B/06-CAMHDA301/2016/01/01/CAMHDA301-20160101T000000Z_optical_flow.json\"\n",
    "\n",
    "metadata_repo = \"/tmp\"\n",
    "data_filename = \"/CAMHDA301-20160101T000000Z_optical_flow.json\"\n",
    "\n",
    "stride = 10"
   ]
  },
  {
   "cell_type": "markdown",
   "metadata": {},
   "source": [
    "# Retrieve movie metadata\n",
    "\n",
    "Get the number of frames in the movie"
   ]
  },
  {
   "cell_type": "code",
   "execution_count": 40,
   "metadata": {},
   "outputs": [
    {
     "name": "stdout",
     "output_type": "stream",
     "text": [
      "{'URL': '/RS03ASHS/PN03B/06-CAMHDA301/2016/01/01/CAMHDA301-20160101T000000Z.mov', 'NumFrames': 25155, 'Duration': 839.33856}\n"
     ]
    }
   ],
   "source": [
    "repo = pycamhd.lazycache()\n",
    "\n",
    "movie_info = repo.get_metadata( url=mov_path )\n",
    "print(movie_info)"
   ]
  },
  {
   "cell_type": "code",
   "execution_count": 56,
   "metadata": {},
   "outputs": [],
   "source": [
    "def frame_stats( path, start, end = -1, stride = 10 ):\n",
    "    if end < 0: end = start+1\n",
    "    with tempfile.NamedTemporaryFile() as t:\n",
    "        procout = subprocess.run( [frame_stats_path,\n",
    "                                               \"-o\", t.name,\n",
    "                                               \"--start-at\", str(start),\n",
    "                                               \"--stop-at\", str(end), \n",
    "                                               \"--stride\", str(stride),\n",
    "                                                path ],\n",
    "                                stdout=subprocess.PIPE,\n",
    "                                stderr=subprocess.PIPE,\n",
    "                                encoding='utf8')\n",
    "  \n",
    "        try:\n",
    "            # Read the JSON from stdout\n",
    "            results = json.load( t )\n",
    "     \n",
    "        #TODO: Check output quality here\n",
    "    \n",
    "            return results\n",
    "        except json.JSONDecodeError:\n",
    "            return procout.stdout"
   ]
  },
  {
   "cell_type": "markdown",
   "metadata": {},
   "source": [
    "## Single-threaded version"
   ]
  },
  {
   "cell_type": "code",
   "execution_count": 57,
   "metadata": {},
   "outputs": [
    {
     "name": "stdout",
     "output_type": "stream",
     "text": [
      "[{'contents': {'frame_stats': {'contents': {'optical_flow': '1.0'}}, 'movie': '1.0', 'timing': '1.0'}, 'frame_stats': [{'frame_number': 5000, 'similarity': {'center': [-960.0, -540.0], 'duration_us': 10209514, 'flowScale': 1.0, 'fromFrame': 4995, 'imgScale': 0.25, 'similarity': [1.00015877249236, 0.0, 18.386438176448, 27.9921960533508], 'toFrame': 5005, 'valid': True}}], 'movie': {'Duration': 839.338562011719, 'NumFrames': 25155, 'URL': '/RS03ASHS/PN03B/06-CAMHDA301/2016/01/01/CAMHDA301-20160101T000000Z.mov', 'cacheURL': 'https://camhd-app-dev.appspot.com/v1/org/oceanobservatories/rawdata/files/RS03ASHS/PN03B/06-CAMHDA301/2016/01/01/CAMHDA301-20160101T000000Z.mov'}, 'timing': {'elapsed_system_time_s': 10.447170824}}]\n",
      "CPU times: user 16 ms, sys: 4 ms, total: 20 ms\n",
      "Wall time: 10.6 s\n"
     ]
    }
   ],
   "source": [
    "%%time\n",
    "\n",
    "frames = range( 5000, 5010, stride )\n",
    "\n",
    "results = [frame_stats(mov_path, f) for f in frames]\n",
    "print(results)"
   ]
  },
  {
   "cell_type": "markdown",
   "metadata": {},
   "source": [
    "## Parallelize using Dask scheduler"
   ]
  },
  {
   "cell_type": "code",
   "execution_count": 58,
   "metadata": {
    "collapsed": true
   },
   "outputs": [],
   "source": [
    "frames = range( 5000, 5020, stride )\n",
    "\n",
    "from dask import compute, delayed\n",
    "values = [delayed(frame_stats)(mov_path,f) for f in frames]\n"
   ]
  },
  {
   "cell_type": "code",
   "execution_count": 78,
   "metadata": {},
   "outputs": [
    {
     "name": "stdout",
     "output_type": "stream",
     "text": [
      "CPU times: user 8 ms, sys: 16 ms, total: 24 ms\n",
      "Wall time: 11.3 s\n"
     ]
    }
   ],
   "source": [
    "%%time \n",
    "\n",
    "import dask.threaded\n",
    "results = compute(*values, get=dask.threaded.get)"
   ]
  },
  {
   "cell_type": "code",
   "execution_count": 83,
   "metadata": {},
   "outputs": [],
   "source": [
    "## build a compliant JSON output\n",
    "\n",
    "\n",
    "joutput = results[0]\n",
    "for i in range(1, len(results)):\n",
    "    joutput[\"frame_stats\"].extend(results[i][\"frame_stats\"])\n",
    "\n",
    "    \n",
    "with open(metadata_repo + data_filename,'w') as f:\n",
    "    json.dump(joutput, f, indent=2)"
   ]
  },
  {
   "cell_type": "code",
   "execution_count": null,
   "metadata": {
    "collapsed": true
   },
   "outputs": [],
   "source": []
  }
 ],
 "metadata": {
  "kernelspec": {
   "display_name": "Python 3",
   "language": "python",
   "name": "python3"
  },
  "language_info": {
   "codemirror_mode": {
    "name": "ipython",
    "version": 3
   },
   "file_extension": ".py",
   "mimetype": "text/x-python",
   "name": "python",
   "nbconvert_exporter": "python",
   "pygments_lexer": "ipython3",
   "version": "3.6.1"
  }
 },
 "nbformat": 4,
 "nbformat_minor": 2
}
