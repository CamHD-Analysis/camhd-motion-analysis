{
 "cells": [
  {
   "cell_type": "code",
   "execution_count": 5,
   "metadata": {
    "collapsed": true
   },
   "outputs": [],
   "source": [
    "import numpy as np\n",
    "% matplotlib inline\n",
    "import matplotlib\n",
    "\n",
    "import pandas as pd\n",
    "\n",
    "import json"
   ]
  },
  {
   "cell_type": "code",
   "execution_count": 6,
   "metadata": {},
   "outputs": [],
   "source": [
    "performance_file = \"./performance.json\"\n",
    "\n",
    "data = pd.read_json(performance_file)"
   ]
  },
  {
   "cell_type": "code",
   "execution_count": 7,
   "metadata": {},
   "outputs": [
    {
     "name": "stdout",
     "output_type": "stream",
     "text": [
      "Index(['cpu', 'duration', 'elapsedSeconds', 'endTime', 'mov', 'numFrames',\n",
      "       'perFrame', 'startTime'],\n",
      "      dtype='object')\n"
     ]
    }
   ],
   "source": [
    "\n",
    "print(data.columns)\n",
    "\n",
    "data['secPerFrame'] = data['elapsedSeconds'] / data['numFrames']\n",
    "\n",
    "by_cpu = data.groupby('cpu')\n"
   ]
  },
  {
   "cell_type": "markdown",
   "metadata": {},
   "source": [
    "## Elapsed time analyses"
   ]
  },
  {
   "cell_type": "code",
   "execution_count": 8,
   "metadata": {},
   "outputs": [
    {
     "name": "stdout",
     "output_type": "stream",
     "text": [
      "                                         elapsedSeconds               \\\n",
      "                                                   mean          std   \n",
      "cpu                                                                    \n",
      "Intel(R) Core(TM) i7-3770K CPU @ 3.50GHz    5140.330906  1463.129637   \n",
      "Intel(R) Core(TM) i7-5820K CPU @ 3.30GHz    3370.241234   908.482082   \n",
      "Intel(R) Core(TM) i7-6700K CPU @ 4.00GHz    3086.787904   979.912715   \n",
      "Intel(R) Xeon(R) CPU @ 2.60GHz              6220.313102  2809.391867   \n",
      "\n",
      "                                         secPerFrame             perFrame  \\\n",
      "                                                mean       std       mean   \n",
      "cpu                                                                         \n",
      "Intel(R) Core(TM) i7-3770K CPU @ 3.50GHz    0.214627  0.044533  16.613259   \n",
      "Intel(R) Core(TM) i7-5820K CPU @ 3.30GHz    0.141809  0.028086  16.293884   \n",
      "Intel(R) Core(TM) i7-6700K CPU @ 4.00GHz    0.128576  0.032599   9.976796   \n",
      "Intel(R) Xeon(R) CPU @ 2.60GHz              0.266551  0.104602  20.469545   \n",
      "\n",
      "                                                    count  \n",
      "                                                std        \n",
      "cpu                                                        \n",
      "Intel(R) Core(TM) i7-3770K CPU @ 3.50GHz   7.535372   263  \n",
      "Intel(R) Core(TM) i7-5820K CPU @ 3.30GHz   7.583914   400  \n",
      "Intel(R) Core(TM) i7-6700K CPU @ 4.00GHz   4.958974   459  \n",
      "Intel(R) Xeon(R) CPU @ 2.60GHz            12.313557   965  \n"
     ]
    }
   ],
   "source": [
    "stats = by_cpu.agg({'elapsedSeconds': (np.mean, np.std),\n",
    "                    'secPerFrame': (np.mean, np.std) })\n",
    "                    \n",
    "    \n",
    "stats[('perFrame','mean')] = by_cpu['perFrame'].agg( lambda x: np.mean(x.sum()) )\n",
    "stats[('perFrame','std')] = by_cpu['perFrame'].agg( lambda x: np.std(x.sum()) )\n",
    "\n",
    "stats[('count','')] = by_cpu['elapsedSeconds'].count()\n",
    "\n",
    "print(stats)\n",
    " "
   ]
  },
  {
   "cell_type": "code",
   "execution_count": null,
   "metadata": {
    "collapsed": true
   },
   "outputs": [],
   "source": []
  }
 ],
 "metadata": {
  "kernelspec": {
   "display_name": "CamHD Motion Analysis",
   "language": "python",
   "name": "camhd_motion_analysis"
  },
  "language_info": {
   "codemirror_mode": {
    "name": "ipython",
    "version": 3
   },
   "file_extension": ".py",
   "mimetype": "text/x-python",
   "name": "python",
   "nbconvert_exporter": "python",
   "pygments_lexer": "ipython3",
   "version": "3.6.1"
  }
 },
 "nbformat": 4,
 "nbformat_minor": 2
}
