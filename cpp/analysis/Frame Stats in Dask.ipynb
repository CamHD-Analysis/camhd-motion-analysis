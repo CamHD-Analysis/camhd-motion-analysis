{
 "cells": [
  {
   "cell_type": "code",
   "execution_count": 1,
   "metadata": {},
   "outputs": [],
   "source": [
    "\n",
    "import json\n",
    "import pycamhd.lazycache as pycamhd\n",
    "\n",
    "import paths\n",
    "import camhd_motion_analysis as ma\n",
    "\n",
    "mov_path = '/RS03ASHS/PN03B/06-CAMHDA301/2016/01/01/CAMHDA301-20160101T000000Z.mov'\n",
    "\n",
    "metadata_repo = \"/tmp\"\n",
    "data_filename = \"/CAMHDA301-20160101T000000Z_optical_flow.json\"\n",
    "\n",
    "stride = 10"
   ]
  },
  {
   "cell_type": "markdown",
   "metadata": {},
   "source": [
    "# Retrieve movie metadata\n",
    "\n",
    "Get the number of frames in the movie"
   ]
  },
  {
   "cell_type": "code",
   "execution_count": 2,
   "metadata": {},
   "outputs": [
    {
     "name": "stdout",
     "output_type": "stream",
     "text": [
      "{'URL': '/RS03ASHS/PN03B/06-CAMHDA301/2016/01/01/CAMHDA301-20160101T000000Z.mov', 'NumFrames': 25155, 'Duration': 839.33856}\n"
     ]
    }
   ],
   "source": [
    "repo = pycamhd.lazycache()\n",
    "\n",
    "movie_info = repo.get_metadata( url=mov_path )\n",
    "print(movie_info)"
   ]
  },
  {
   "cell_type": "markdown",
   "metadata": {},
   "source": [
    "## Single-threaded version"
   ]
  },
  {
   "cell_type": "code",
   "execution_count": 3,
   "metadata": {
    "scrolled": true
   },
   "outputs": [
    {
     "name": "stdout",
     "output_type": "stream",
     "text": [
      "/home/aaron/workspace/camhd_analysis/camhd_motion_analysis/build-Debug/bin/frame_stats\n",
      "[{'contents': {'frame_stats': {'contents': {'optical_flow': '1.0'}}, 'movie': '1.0', 'timing': '1.0'}, 'frame_stats': [{'frame_number': 5000, 'similarity': {'center': [-960.0, -540.0], 'duration_us': 11007677, 'flowScale': 1.0, 'fromFrame': 4995, 'imgScale': 0.25, 'similarity': [1.00015877249236, 0.0, 18.386438176448, 27.9921960533508], 'toFrame': 5005, 'valid': True}}], 'movie': {'Duration': 839.338562011719, 'NumFrames': 25155, 'URL': '/RS03ASHS/PN03B/06-CAMHDA301/2016/01/01/CAMHDA301-20160101T000000Z.mov', 'cacheURL': 'https://camhd-app-dev.appspot.com/v1/org/oceanobservatories/rawdata/files/RS03ASHS/PN03B/06-CAMHDA301/2016/01/01/CAMHDA301-20160101T000000Z.mov'}, 'timing': {'elapsed_system_time_s': 11.304482188}}]\n",
      "CPU times: user 0 ns, sys: 12 ms, total: 12 ms\n",
      "Wall time: 11.4 s\n"
     ]
    }
   ],
   "source": [
    "%%time\n",
    "\n",
    "frames = range( 5000, 5010, stride )\n",
    "\n",
    "results = [ma.frame_stats(mov_path, f) for f in frames]\n",
    "print(results)"
   ]
  },
  {
   "cell_type": "markdown",
   "metadata": {},
   "source": [
    "## Parallelize using Dask scheduler"
   ]
  },
  {
   "cell_type": "code",
   "execution_count": null,
   "metadata": {
    "collapsed": true
   },
   "outputs": [],
   "source": [
    "frames = range( 5000, 5020, stride )\n",
    "\n",
    "from dask import compute, delayed\n",
    "values = [delayed(frame_stats)(mov_path,f) for f in frames]\n"
   ]
  },
  {
   "cell_type": "code",
   "execution_count": null,
   "metadata": {},
   "outputs": [],
   "source": [
    "%%time \n",
    "\n",
    "import dask.threaded\n",
    "results = compute(*values, get=dask.threaded.get)"
   ]
  },
  {
   "cell_type": "code",
   "execution_count": null,
   "metadata": {
    "collapsed": true
   },
   "outputs": [],
   "source": [
    "## build a compliant JSON output\n",
    "\n",
    "\n",
    "joutput = results[0]\n",
    "for i in range(1, len(results)):\n",
    "    joutput[\"frame_stats\"].extend(results[i][\"frame_stats\"])\n",
    "\n",
    "    \n",
    "with open(metadata_repo + data_filename,'w') as f:\n",
    "    json.dump(joutput, f, indent=2)"
   ]
  },
  {
   "cell_type": "code",
   "execution_count": null,
   "metadata": {
    "collapsed": true
   },
   "outputs": [],
   "source": []
  }
 ],
 "metadata": {
  "kernelspec": {
   "display_name": "Python 3",
   "language": "python",
   "name": "python3"
  },
  "language_info": {
   "codemirror_mode": {
    "name": "ipython",
    "version": 3
   },
   "file_extension": ".py",
   "mimetype": "text/x-python",
   "name": "python",
   "nbconvert_exporter": "python",
   "pygments_lexer": "ipython3",
   "version": "3.6.1"
  }
 },
 "nbformat": 4,
 "nbformat_minor": 2
}
