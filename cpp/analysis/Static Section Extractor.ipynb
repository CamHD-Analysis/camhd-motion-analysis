{
 "cells": [
  {
   "cell_type": "code",
   "execution_count": 1,
   "metadata": {
    "collapsed": false
   },
   "outputs": [
    {
     "ename": "ModuleNotFoundError",
     "evalue": "No module named 'camhd_motion_analysis'",
     "output_type": "error",
     "traceback": [
      "\u001b[0;31m---------------------------------------------------------------------------\u001b[0m",
      "\u001b[0;31mModuleNotFoundError\u001b[0m                       Traceback (most recent call last)",
      "\u001b[0;32m<ipython-input-1-ddd07de30014>\u001b[0m in \u001b[0;36m<module>\u001b[0;34m()\u001b[0m\n\u001b[1;32m      6\u001b[0m \u001b[0;32mfrom\u001b[0m \u001b[0mos\u001b[0m \u001b[0;32mimport\u001b[0m \u001b[0mpath\u001b[0m\u001b[0;34m\u001b[0m\u001b[0m\n\u001b[1;32m      7\u001b[0m \u001b[0;34m\u001b[0m\u001b[0m\n\u001b[0;32m----> 8\u001b[0;31m \u001b[0;32mimport\u001b[0m \u001b[0mcamhd_motion_analysis\u001b[0m \u001b[0;32mas\u001b[0m \u001b[0mma\u001b[0m\u001b[0;34m\u001b[0m\u001b[0m\n\u001b[0m",
      "\u001b[0;31mModuleNotFoundError\u001b[0m: No module named 'camhd_motion_analysis'"
     ]
    }
   ],
   "source": [
    "import json\n",
    "\n",
    "import subprocess\n",
    "import time\n",
    "\n",
    "from os import path\n",
    "\n",
    "import camhd_motion_analysis as ma"
   ]
  },
  {
   "cell_type": "code",
   "execution_count": null,
   "metadata": {
    "collapsed": true
   },
   "outputs": [],
   "source": [
    "metadata_repo = \"/home/aaron/workspace/camhd_analysis/CamHD_motion_metadata\"\n",
    "movie_repo = \"/home/aaron/canine/workspace/camhd_analysis/test_data\"\n",
    "\n",
    "movie = \"/RS03ASHS/PN03B/06-CAMHDA301/2016/03/01/CAMHDA301-20160301T000000Z.mov\"\n",
    "\n",
    "regions_filename = metadata_repo + (path.splitext(movie)[0]) + \"_optical_flow_regions.json\"\n",
    "movie_filename = movie_repo + movie\n",
    "\n",
    "out_dir = \"CAMHDA301-20160301T000000Z\""
   ]
  },
  {
   "cell_type": "code",
   "execution_count": null,
   "metadata": {
    "collapsed": true
   },
   "outputs": [],
   "source": [
    "with open(regions_filename,'r') as infile:\n",
    "    j = json.load( infile )\n",
    "   \n",
    "regions = j['regions']"
   ]
  },
  {
   "cell_type": "code",
   "execution_count": null,
   "metadata": {
    "collapsed": false
   },
   "outputs": [],
   "source": [
    "for region in regions:\n",
    "            \n",
    "    bounds = region['bounds']\n",
    "        \n",
    "    #preseek_time = time.strftime(\"%H:%M:%S\", time.gmtime( r[0]/29.97-2 ) )\n",
    "    start_time = time.strftime(\"%H:%M:%S\", time.gmtime( bounds[0]/29.97 ) )\n",
    "    duration = time.strftime(\"%H:%M:%S\", time.gmtime( (bounds[1] - bounds[0])/29.97 ) )\n",
    "    \n",
    "    print(bounds, start_time, duration)\n",
    "    \n",
    "    out_file = \"%s/region_%08d_%08d_%s.mkv\" % (out_dir, bounds[0], bounds[1], region['type'])\n",
    "\n",
    "    subprocess.run( ['ffmpeg', '-y', '-ss', start_time,  '-i', movie_filename, '-t', duration, out_file])\n"
   ]
  },
  {
   "cell_type": "code",
   "execution_count": null,
   "metadata": {
    "collapsed": true
   },
   "outputs": [],
   "source": []
  },
  {
   "cell_type": "code",
   "execution_count": null,
   "metadata": {
    "collapsed": true
   },
   "outputs": [],
   "source": []
  }
 ],
 "metadata": {
  "kernelspec": {
   "display_name": "Python 3",
   "language": "python",
   "name": "python3"
  }
 },
 "nbformat": 4,
 "nbformat_minor": 2
}
